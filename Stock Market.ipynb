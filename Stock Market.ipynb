{
 "cells": [
  {
   "cell_type": "code",
   "execution_count": 1,
   "id": "72e25328-e84e-4936-aed5-3d759c862230",
   "metadata": {},
   "outputs": [],
   "source": [
    "import pandas as pd\n",
    "import numpy as np\n",
    "import matplotlib.pyplot  as plt\n",
    "import seaborn as sns\n",
    "import warnings\n",
    "warnings.filterwarnings('ignore')"
   ]
  },
  {
   "cell_type": "code",
   "execution_count": 3,
   "id": "e69caacf-af1a-4d9b-98fe-6232fb016e4d",
   "metadata": {},
   "outputs": [],
   "source": [
    "df = pd.read_csv(r\"C:\\Users\\lenovo\\Downloads\\stocks.csv\")"
   ]
  },
  {
   "cell_type": "code",
   "execution_count": 4,
   "id": "bd2291c0-f7f6-44f2-8fe1-28f92c4dadcc",
   "metadata": {},
   "outputs": [
    {
     "data": {
      "text/html": [
       "<div>\n",
       "<style scoped>\n",
       "    .dataframe tbody tr th:only-of-type {\n",
       "        vertical-align: middle;\n",
       "    }\n",
       "\n",
       "    .dataframe tbody tr th {\n",
       "        vertical-align: top;\n",
       "    }\n",
       "\n",
       "    .dataframe thead th {\n",
       "        text-align: right;\n",
       "    }\n",
       "</style>\n",
       "<table border=\"1\" class=\"dataframe\">\n",
       "  <thead>\n",
       "    <tr style=\"text-align: right;\">\n",
       "      <th></th>\n",
       "      <th>Ticker</th>\n",
       "      <th>Date</th>\n",
       "      <th>Open</th>\n",
       "      <th>High</th>\n",
       "      <th>Low</th>\n",
       "      <th>Close</th>\n",
       "      <th>Adj Close</th>\n",
       "      <th>Volume</th>\n",
       "    </tr>\n",
       "  </thead>\n",
       "  <tbody>\n",
       "    <tr>\n",
       "      <th>0</th>\n",
       "      <td>AAPL</td>\n",
       "      <td>2023-02-07</td>\n",
       "      <td>150.639999</td>\n",
       "      <td>155.229996</td>\n",
       "      <td>150.639999</td>\n",
       "      <td>154.649994</td>\n",
       "      <td>154.414230</td>\n",
       "      <td>83322600</td>\n",
       "    </tr>\n",
       "    <tr>\n",
       "      <th>1</th>\n",
       "      <td>AAPL</td>\n",
       "      <td>2023-02-08</td>\n",
       "      <td>153.880005</td>\n",
       "      <td>154.580002</td>\n",
       "      <td>151.169998</td>\n",
       "      <td>151.919998</td>\n",
       "      <td>151.688400</td>\n",
       "      <td>64120100</td>\n",
       "    </tr>\n",
       "    <tr>\n",
       "      <th>2</th>\n",
       "      <td>AAPL</td>\n",
       "      <td>2023-02-09</td>\n",
       "      <td>153.779999</td>\n",
       "      <td>154.330002</td>\n",
       "      <td>150.419998</td>\n",
       "      <td>150.869995</td>\n",
       "      <td>150.639999</td>\n",
       "      <td>56007100</td>\n",
       "    </tr>\n",
       "    <tr>\n",
       "      <th>3</th>\n",
       "      <td>AAPL</td>\n",
       "      <td>2023-02-10</td>\n",
       "      <td>149.460007</td>\n",
       "      <td>151.339996</td>\n",
       "      <td>149.220001</td>\n",
       "      <td>151.009995</td>\n",
       "      <td>151.009995</td>\n",
       "      <td>57450700</td>\n",
       "    </tr>\n",
       "    <tr>\n",
       "      <th>4</th>\n",
       "      <td>AAPL</td>\n",
       "      <td>2023-02-13</td>\n",
       "      <td>150.949997</td>\n",
       "      <td>154.259995</td>\n",
       "      <td>150.919998</td>\n",
       "      <td>153.850006</td>\n",
       "      <td>153.850006</td>\n",
       "      <td>62199000</td>\n",
       "    </tr>\n",
       "    <tr>\n",
       "      <th>...</th>\n",
       "      <td>...</td>\n",
       "      <td>...</td>\n",
       "      <td>...</td>\n",
       "      <td>...</td>\n",
       "      <td>...</td>\n",
       "      <td>...</td>\n",
       "      <td>...</td>\n",
       "      <td>...</td>\n",
       "    </tr>\n",
       "    <tr>\n",
       "      <th>243</th>\n",
       "      <td>GOOG</td>\n",
       "      <td>2023-05-01</td>\n",
       "      <td>107.720001</td>\n",
       "      <td>108.680000</td>\n",
       "      <td>107.500000</td>\n",
       "      <td>107.709999</td>\n",
       "      <td>107.709999</td>\n",
       "      <td>20926300</td>\n",
       "    </tr>\n",
       "    <tr>\n",
       "      <th>244</th>\n",
       "      <td>GOOG</td>\n",
       "      <td>2023-05-02</td>\n",
       "      <td>107.660004</td>\n",
       "      <td>107.730003</td>\n",
       "      <td>104.500000</td>\n",
       "      <td>105.980003</td>\n",
       "      <td>105.980003</td>\n",
       "      <td>20343100</td>\n",
       "    </tr>\n",
       "    <tr>\n",
       "      <th>245</th>\n",
       "      <td>GOOG</td>\n",
       "      <td>2023-05-03</td>\n",
       "      <td>106.220001</td>\n",
       "      <td>108.129997</td>\n",
       "      <td>105.620003</td>\n",
       "      <td>106.120003</td>\n",
       "      <td>106.120003</td>\n",
       "      <td>17116300</td>\n",
       "    </tr>\n",
       "    <tr>\n",
       "      <th>246</th>\n",
       "      <td>GOOG</td>\n",
       "      <td>2023-05-04</td>\n",
       "      <td>106.160004</td>\n",
       "      <td>106.300003</td>\n",
       "      <td>104.699997</td>\n",
       "      <td>105.209999</td>\n",
       "      <td>105.209999</td>\n",
       "      <td>19780600</td>\n",
       "    </tr>\n",
       "    <tr>\n",
       "      <th>247</th>\n",
       "      <td>GOOG</td>\n",
       "      <td>2023-05-05</td>\n",
       "      <td>105.320000</td>\n",
       "      <td>106.440002</td>\n",
       "      <td>104.738998</td>\n",
       "      <td>106.214996</td>\n",
       "      <td>106.214996</td>\n",
       "      <td>20705300</td>\n",
       "    </tr>\n",
       "  </tbody>\n",
       "</table>\n",
       "<p>248 rows × 8 columns</p>\n",
       "</div>"
      ],
      "text/plain": [
       "    Ticker        Date        Open        High         Low       Close  \\\n",
       "0     AAPL  2023-02-07  150.639999  155.229996  150.639999  154.649994   \n",
       "1     AAPL  2023-02-08  153.880005  154.580002  151.169998  151.919998   \n",
       "2     AAPL  2023-02-09  153.779999  154.330002  150.419998  150.869995   \n",
       "3     AAPL  2023-02-10  149.460007  151.339996  149.220001  151.009995   \n",
       "4     AAPL  2023-02-13  150.949997  154.259995  150.919998  153.850006   \n",
       "..     ...         ...         ...         ...         ...         ...   \n",
       "243   GOOG  2023-05-01  107.720001  108.680000  107.500000  107.709999   \n",
       "244   GOOG  2023-05-02  107.660004  107.730003  104.500000  105.980003   \n",
       "245   GOOG  2023-05-03  106.220001  108.129997  105.620003  106.120003   \n",
       "246   GOOG  2023-05-04  106.160004  106.300003  104.699997  105.209999   \n",
       "247   GOOG  2023-05-05  105.320000  106.440002  104.738998  106.214996   \n",
       "\n",
       "      Adj Close    Volume  \n",
       "0    154.414230  83322600  \n",
       "1    151.688400  64120100  \n",
       "2    150.639999  56007100  \n",
       "3    151.009995  57450700  \n",
       "4    153.850006  62199000  \n",
       "..          ...       ...  \n",
       "243  107.709999  20926300  \n",
       "244  105.980003  20343100  \n",
       "245  106.120003  17116300  \n",
       "246  105.209999  19780600  \n",
       "247  106.214996  20705300  \n",
       "\n",
       "[248 rows x 8 columns]"
      ]
     },
     "execution_count": 4,
     "metadata": {},
     "output_type": "execute_result"
    }
   ],
   "source": [
    "df"
   ]
  },
  {
   "cell_type": "code",
   "execution_count": 6,
   "id": "f846e145-13e1-40f9-99e7-c48ef7bca6a1",
   "metadata": {},
   "outputs": [
    {
     "data": {
      "text/plain": [
       "Index(['Ticker', 'Date', 'Open', 'High', 'Low', 'Close', 'Adj Close',\n",
       "       'Volume'],\n",
       "      dtype='object')"
      ]
     },
     "execution_count": 6,
     "metadata": {},
     "output_type": "execute_result"
    }
   ],
   "source": [
    "df.columns"
   ]
  },
  {
   "cell_type": "code",
   "execution_count": 9,
   "id": "c30a6229-6c59-4265-a382-095c015268ae",
   "metadata": {},
   "outputs": [
    {
     "data": {
      "text/plain": [
       "0"
      ]
     },
     "execution_count": 9,
     "metadata": {},
     "output_type": "execute_result"
    }
   ],
   "source": [
    "df.duplicated().sum()"
   ]
  },
  {
   "cell_type": "code",
   "execution_count": 11,
   "id": "dbfa948e-f059-4e61-9e01-d547ab6afd43",
   "metadata": {},
   "outputs": [
    {
     "name": "stdout",
     "output_type": "stream",
     "text": [
      "<class 'pandas.core.frame.DataFrame'>\n",
      "RangeIndex: 248 entries, 0 to 247\n",
      "Data columns (total 8 columns):\n",
      " #   Column     Non-Null Count  Dtype  \n",
      "---  ------     --------------  -----  \n",
      " 0   Ticker     248 non-null    object \n",
      " 1   Date       248 non-null    object \n",
      " 2   Open       248 non-null    float64\n",
      " 3   High       248 non-null    float64\n",
      " 4   Low        248 non-null    float64\n",
      " 5   Close      248 non-null    float64\n",
      " 6   Adj Close  248 non-null    float64\n",
      " 7   Volume     248 non-null    int64  \n",
      "dtypes: float64(5), int64(1), object(2)\n",
      "memory usage: 15.6+ KB\n"
     ]
    }
   ],
   "source": [
    "df.info()"
   ]
  },
  {
   "cell_type": "code",
   "execution_count": 15,
   "id": "7f16fecb-7b9d-4877-8df5-81f6935d6a5b",
   "metadata": {},
   "outputs": [
    {
     "data": {
      "text/plain": [
       "array(['AAPL', 'MSFT', 'NFLX', 'GOOG'], dtype=object)"
      ]
     },
     "execution_count": 15,
     "metadata": {},
     "output_type": "execute_result"
    }
   ],
   "source": [
    "df['Ticker'].unique()"
   ]
  },
  {
   "cell_type": "code",
   "execution_count": 16,
   "id": "e5e77565-bdfd-4e35-8023-3eff4910fd01",
   "metadata": {},
   "outputs": [
    {
     "data": {
      "text/html": [
       "<div>\n",
       "<style scoped>\n",
       "    .dataframe tbody tr th:only-of-type {\n",
       "        vertical-align: middle;\n",
       "    }\n",
       "\n",
       "    .dataframe tbody tr th {\n",
       "        vertical-align: top;\n",
       "    }\n",
       "\n",
       "    .dataframe thead th {\n",
       "        text-align: right;\n",
       "    }\n",
       "</style>\n",
       "<table border=\"1\" class=\"dataframe\">\n",
       "  <thead>\n",
       "    <tr style=\"text-align: right;\">\n",
       "      <th></th>\n",
       "      <th>Open</th>\n",
       "      <th>High</th>\n",
       "      <th>Low</th>\n",
       "      <th>Close</th>\n",
       "      <th>Adj Close</th>\n",
       "      <th>Volume</th>\n",
       "    </tr>\n",
       "  </thead>\n",
       "  <tbody>\n",
       "    <tr>\n",
       "      <th>count</th>\n",
       "      <td>248.000000</td>\n",
       "      <td>248.000000</td>\n",
       "      <td>248.000000</td>\n",
       "      <td>248.000000</td>\n",
       "      <td>248.000000</td>\n",
       "      <td>2.480000e+02</td>\n",
       "    </tr>\n",
       "    <tr>\n",
       "      <th>mean</th>\n",
       "      <td>215.252093</td>\n",
       "      <td>217.919662</td>\n",
       "      <td>212.697452</td>\n",
       "      <td>215.381674</td>\n",
       "      <td>215.362697</td>\n",
       "      <td>3.208210e+07</td>\n",
       "    </tr>\n",
       "    <tr>\n",
       "      <th>std</th>\n",
       "      <td>91.691315</td>\n",
       "      <td>92.863023</td>\n",
       "      <td>90.147881</td>\n",
       "      <td>91.461989</td>\n",
       "      <td>91.454750</td>\n",
       "      <td>2.233590e+07</td>\n",
       "    </tr>\n",
       "    <tr>\n",
       "      <th>min</th>\n",
       "      <td>89.540001</td>\n",
       "      <td>90.129997</td>\n",
       "      <td>88.860001</td>\n",
       "      <td>89.349998</td>\n",
       "      <td>89.349998</td>\n",
       "      <td>2.657900e+06</td>\n",
       "    </tr>\n",
       "    <tr>\n",
       "      <th>25%</th>\n",
       "      <td>135.235004</td>\n",
       "      <td>137.440004</td>\n",
       "      <td>134.822495</td>\n",
       "      <td>136.347498</td>\n",
       "      <td>136.347498</td>\n",
       "      <td>1.714180e+07</td>\n",
       "    </tr>\n",
       "    <tr>\n",
       "      <th>50%</th>\n",
       "      <td>208.764999</td>\n",
       "      <td>212.614998</td>\n",
       "      <td>208.184998</td>\n",
       "      <td>209.920006</td>\n",
       "      <td>209.920006</td>\n",
       "      <td>2.734000e+07</td>\n",
       "    </tr>\n",
       "    <tr>\n",
       "      <th>75%</th>\n",
       "      <td>304.177505</td>\n",
       "      <td>307.565002</td>\n",
       "      <td>295.437500</td>\n",
       "      <td>303.942505</td>\n",
       "      <td>303.942505</td>\n",
       "      <td>4.771772e+07</td>\n",
       "    </tr>\n",
       "    <tr>\n",
       "      <th>max</th>\n",
       "      <td>372.410004</td>\n",
       "      <td>373.829987</td>\n",
       "      <td>361.739990</td>\n",
       "      <td>366.829987</td>\n",
       "      <td>366.829987</td>\n",
       "      <td>1.133164e+08</td>\n",
       "    </tr>\n",
       "  </tbody>\n",
       "</table>\n",
       "</div>"
      ],
      "text/plain": [
       "             Open        High         Low       Close   Adj Close  \\\n",
       "count  248.000000  248.000000  248.000000  248.000000  248.000000   \n",
       "mean   215.252093  217.919662  212.697452  215.381674  215.362697   \n",
       "std     91.691315   92.863023   90.147881   91.461989   91.454750   \n",
       "min     89.540001   90.129997   88.860001   89.349998   89.349998   \n",
       "25%    135.235004  137.440004  134.822495  136.347498  136.347498   \n",
       "50%    208.764999  212.614998  208.184998  209.920006  209.920006   \n",
       "75%    304.177505  307.565002  295.437500  303.942505  303.942505   \n",
       "max    372.410004  373.829987  361.739990  366.829987  366.829987   \n",
       "\n",
       "             Volume  \n",
       "count  2.480000e+02  \n",
       "mean   3.208210e+07  \n",
       "std    2.233590e+07  \n",
       "min    2.657900e+06  \n",
       "25%    1.714180e+07  \n",
       "50%    2.734000e+07  \n",
       "75%    4.771772e+07  \n",
       "max    1.133164e+08  "
      ]
     },
     "execution_count": 16,
     "metadata": {},
     "output_type": "execute_result"
    }
   ],
   "source": [
    "df.describe()"
   ]
  },
  {
   "cell_type": "code",
   "execution_count": 19,
   "id": "33d2b4dd-f38c-4778-b100-f3b505d5d7ee",
   "metadata": {},
   "outputs": [
    {
     "data": {
      "text/plain": [
       "(248, 8)"
      ]
     },
     "execution_count": 19,
     "metadata": {},
     "output_type": "execute_result"
    }
   ],
   "source": [
    "df.shape"
   ]
  },
  {
   "cell_type": "code",
   "execution_count": 21,
   "id": "ba64317e-84c1-4de4-836d-f473833ac2e8",
   "metadata": {},
   "outputs": [
    {
     "data": {
      "text/plain": [
       "Ticker        object\n",
       "Date          object\n",
       "Open         float64\n",
       "High         float64\n",
       "Low          float64\n",
       "Close        float64\n",
       "Adj Close    float64\n",
       "Volume         int64\n",
       "dtype: object"
      ]
     },
     "execution_count": 21,
     "metadata": {},
     "output_type": "execute_result"
    }
   ],
   "source": [
    "df.dtypes"
   ]
  },
  {
   "cell_type": "code",
   "execution_count": 22,
   "id": "7a9d6f58-ea3e-438d-8eeb-83b9ac8b8084",
   "metadata": {},
   "outputs": [
    {
     "data": {
      "text/plain": [
       "Ticker       False\n",
       "Date         False\n",
       "Open         False\n",
       "High         False\n",
       "Low          False\n",
       "Close        False\n",
       "Adj Close    False\n",
       "Volume       False\n",
       "dtype: bool"
      ]
     },
     "execution_count": 22,
     "metadata": {},
     "output_type": "execute_result"
    }
   ],
   "source": [
    "df.isnull().any()"
   ]
  },
  {
   "cell_type": "code",
   "execution_count": 23,
   "id": "d2c55a05-8d2a-40f4-82e8-1b6376490051",
   "metadata": {},
   "outputs": [
    {
     "data": {
      "text/plain": [
       "Ticker       0\n",
       "Date         0\n",
       "Open         0\n",
       "High         0\n",
       "Low          0\n",
       "Close        0\n",
       "Adj Close    0\n",
       "Volume       0\n",
       "dtype: int64"
      ]
     },
     "execution_count": 23,
     "metadata": {},
     "output_type": "execute_result"
    }
   ],
   "source": [
    "df.isnull().sum()"
   ]
  },
  {
   "cell_type": "markdown",
   "id": "40a919be-850b-4faf-91cc-a5a08bb2030d",
   "metadata": {},
   "source": [
    "# The distribution of the closing prices to understand their range and frequency."
   ]
  },
  {
   "cell_type": "code",
   "execution_count": 9,
   "id": "f2f6b342-2a6e-45b3-900d-f3ff3c9f51b4",
   "metadata": {},
   "outputs": [
    {
     "data": {
      "image/png": "[encoded data removed]",
      "text/plain": [
       "<Figure size 640x480 with 1 Axes>"
      ]
     },
     "metadata": {},
     "output_type": "display_data"
    }
   ],
   "source": [
    "plt.hist(df['Close'], bins=20,color = 'green')\n",
    "plt.xlabel('Closing Price')\n",
    "plt.ylabel('Frequency')\n",
    "plt.title('Closing Price Distribution')\n",
    "plt.show()"
   ]
  },
  {
   "cell_type": "code",
   "execution_count": 28,
   "id": "35b59807-8a8c-4679-afa9-2ae0e9801bae",
   "metadata": {},
   "outputs": [
    {
     "data": {
      "image/png": "[encoded data removed]",
      "text/plain": [
       "<Figure size 640x480 with 1 Axes>"
      ]
     },
     "metadata": {},
     "output_type": "display_data"
    }
   ],
   "source": [
    "pd.DataFrame(df).boxplot()\n",
    "plt.show()"
   ]
  },
  {
   "cell_type": "markdown",
   "id": "3153db12-5a6b-4e48-86a1-61710b6a3391",
   "metadata": {},
   "source": [
    "# The cumulative volume traded over time to observe any trends or spikes."
   ]
  },
  {
   "cell_type": "code",
   "execution_count": 31,
   "id": "13e507a5-0335-4ca2-84d1-800daff2aca1",
   "metadata": {},
   "outputs": [
    {
     "data": {
      "image/png": "[encoded data removed]",
      "text/plain": [
       "<Figure size 640x480 with 1 Axes>"
      ]
     },
     "metadata": {},
     "output_type": "display_data"
    }
   ],
   "source": [
    "ticker_volume = df.groupby('Ticker')['Volume'].sum()\n",
    "ticker_volume.plot(kind='bar')\n",
    "plt.xlabel('Ticker')\n",
    "plt.ylabel('Total Volume')\n",
    "plt.title('Total Volume by Ticker')\n",
    "plt.show()"
   ]
  },
  {
   "cell_type": "markdown",
   "id": "50e193d7-84f1-4e2d-9480-a6f54249e038",
   "metadata": {},
   "source": [
    "# Exploring the relationship between volume and closing prices,to identify any correlations."
   ]
  },
  {
   "cell_type": "code",
   "execution_count": 35,
   "id": "2f171253-f98a-4331-8d64-dedf0d1d60e2",
   "metadata": {},
   "outputs": [
    {
     "data": {
      "image/png": "[encoded data removed]",
      "text/plain": [
       "<Figure size 640x480 with 1 Axes>"
      ]
     },
     "metadata": {},
     "output_type": "display_data"
    }
   ],
   "source": [
    "\n",
    "plt.scatter(df['Volume'],df['Close'])\n",
    "plt.xlabel(\"Volume\")\n",
    "plt.ylabel('Closing Price')\n",
    "plt.title('Closing Price VS Volume')\n",
    "plt.show()"
   ]
  },
  {
   "cell_type": "markdown",
   "id": "d8a865c6-50ec-4446-9530-c54220ef160d",
   "metadata": {},
   "source": [
    "# Illustrating the distribution of the closing prices, including the median, quartiles, and outliers."
   ]
  },
  {
   "cell_type": "code",
   "execution_count": 37,
   "id": "8bcc771e-098e-42be-b424-fc51778a1653",
   "metadata": {},
   "outputs": [
    {
     "data": {
      "image/png": "[encoded data removed]",
      "text/plain": [
       "<Figure size 640x480 with 1 Axes>"
      ]
     },
     "metadata": {},
     "output_type": "display_data"
    }
   ],
   "source": [
    "\n",
    "plt.boxplot(df['Close'])\n",
    "plt.ylabel('Closing Price')\n",
    "plt.title('Closing Price Distribution')\n",
    "plt.show()"
   ]
  },
  {
   "cell_type": "markdown",
   "id": "e8aadd3e-8fd5-498f-856d-93fd1f4972f1",
   "metadata": {},
   "source": [
    "# Illustrating the distribution of the closing prices, including the median, quartiles, and outliers."
   ]
  },
  {
   "cell_type": "code",
   "execution_count": 6,
   "id": "35f8fd16-ba43-4d28-8e17-16b23b995657",
   "metadata": {},
   "outputs": [
    {
     "data": {
      "image/png": "[encoded data removed]",
      "text/plain": [
       "<Figure size 640x480 with 1 Axes>"
      ]
     },
     "metadata": {},
     "output_type": "display_data"
    }
   ],
   "source": [
    "plt.boxplot(df['Volume'])\n",
    "plt.ylabel('Volume')\n",
    "plt.title('Volume Price Distribution')\n",
    "plt.show()"
   ]
  },
  {
   "cell_type": "code",
   "execution_count": 43,
   "id": "a0e0f578-5dfb-4fb0-9489-ca3c3875d018",
   "metadata": {},
   "outputs": [
    {
     "data": {
      "text/html": [
       "<div>\n",
       "<style scoped>\n",
       "    .dataframe tbody tr th:only-of-type {\n",
       "        vertical-align: middle;\n",
       "    }\n",
       "\n",
       "    .dataframe tbody tr th {\n",
       "        vertical-align: top;\n",
       "    }\n",
       "\n",
       "    .dataframe thead th {\n",
       "        text-align: right;\n",
       "    }\n",
       "</style>\n",
       "<table border=\"1\" class=\"dataframe\">\n",
       "  <thead>\n",
       "    <tr style=\"text-align: right;\">\n",
       "      <th></th>\n",
       "      <th>Volume</th>\n",
       "    </tr>\n",
       "  </thead>\n",
       "  <tbody>\n",
       "    <tr>\n",
       "      <th>0</th>\n",
       "      <td>83322600</td>\n",
       "    </tr>\n",
       "    <tr>\n",
       "      <th>1</th>\n",
       "      <td>64120100</td>\n",
       "    </tr>\n",
       "    <tr>\n",
       "      <th>2</th>\n",
       "      <td>56007100</td>\n",
       "    </tr>\n",
       "    <tr>\n",
       "      <th>3</th>\n",
       "      <td>57450700</td>\n",
       "    </tr>\n",
       "    <tr>\n",
       "      <th>4</th>\n",
       "      <td>62199000</td>\n",
       "    </tr>\n",
       "  </tbody>\n",
       "</table>\n",
       "</div>"
      ],
      "text/plain": [
       "     Volume\n",
       "0  83322600\n",
       "1  64120100\n",
       "2  56007100\n",
       "3  57450700\n",
       "4  62199000"
      ]
     },
     "execution_count": 43,
     "metadata": {},
     "output_type": "execute_result"
    }
   ],
   "source": [
    "my_val=pd.DataFrame({\"Volume\":df[\"Volume\"]})\n",
    "my_val.head(5)"
   ]
  },
  {
   "cell_type": "code",
   "execution_count": 46,
   "id": "73659ace-bfab-4f5a-91fc-fc3184bf4924",
   "metadata": {},
   "outputs": [
    {
     "data": {
      "text/plain": [
       "(47717725.0, 17141800.0)"
      ]
     },
     "execution_count": 46,
     "metadata": {},
     "output_type": "execute_result"
    }
   ],
   "source": [
    "q75,q25 = np.percentile(my_val,[75,25])\n",
    "q75,q25"
   ]
  },
  {
   "cell_type": "code",
   "execution_count": 47,
   "id": "4fc79eec-8a87-4007-a08a-ecee5614acaa",
   "metadata": {},
   "outputs": [
    {
     "data": {
      "text/plain": [
       "30575925.0"
      ]
     },
     "execution_count": 47,
     "metadata": {},
     "output_type": "execute_result"
    }
   ],
   "source": [
    "IQR = q75-q25\n",
    "IQR"
   ]
  },
  {
   "cell_type": "code",
   "execution_count": 49,
   "id": "1141141d-f4f4-409d-9d39-df575d9ade29",
   "metadata": {},
   "outputs": [
    {
     "data": {
      "text/plain": [
       "(-28722087.5, 93581612.5)"
      ]
     },
     "execution_count": 49,
     "metadata": {},
     "output_type": "execute_result"
    }
   ],
   "source": [
    "q0=q25-(IQR*1.5)\n",
    "q100=q75+(IQR*1.5)\n",
    "q0,q100"
   ]
  },
  {
   "cell_type": "code",
   "execution_count": 50,
   "id": "549ff0d4-c1a4-4d83-9a5f-76ace0a29520",
   "metadata": {},
   "outputs": [
    {
     "data": {
      "text/plain": [
       "Volume    3.208210e+07\n",
       "dtype: float64"
      ]
     },
     "execution_count": 50,
     "metadata": {},
     "output_type": "execute_result"
    }
   ],
   "source": [
    "my_val.mean()"
   ]
  },
  {
   "cell_type": "code",
   "execution_count": 51,
   "id": "860de590-beda-48c9-9fcb-83c0403e4eca",
   "metadata": {},
   "outputs": [
    {
     "data": {
      "text/plain": [
       "Volume    27340000.0\n",
       "dtype: float64"
      ]
     },
     "execution_count": 51,
     "metadata": {},
     "output_type": "execute_result"
    }
   ],
   "source": [
    "my_val.median()"
   ]
  },
  {
   "cell_type": "code",
   "execution_count": 53,
   "id": "ecbbd992-7691-4031-839a-187c958073bd",
   "metadata": {},
   "outputs": [
    {
     "data": {
      "image/png": "[encoded data removed]",
      "text/plain": [
       "<Figure size 640x480 with 1 Axes>"
      ]
     },
     "metadata": {},
     "output_type": "display_data"
    }
   ],
   "source": [
    "sns.boxplot(data=df['Volume'])\n",
    "plt.show()"
   ]
  },
  {
   "cell_type": "code",
   "execution_count": 54,
   "id": "76c4b744-57b1-4c70-b311-332d1ee7c546",
   "metadata": {},
   "outputs": [
    {
     "data": {
      "text/html": [
       "<div>\n",
       "<style scoped>\n",
       "    .dataframe tbody tr th:only-of-type {\n",
       "        vertical-align: middle;\n",
       "    }\n",
       "\n",
       "    .dataframe tbody tr th {\n",
       "        vertical-align: top;\n",
       "    }\n",
       "\n",
       "    .dataframe thead th {\n",
       "        text-align: right;\n",
       "    }\n",
       "</style>\n",
       "<table border=\"1\" class=\"dataframe\">\n",
       "  <thead>\n",
       "    <tr style=\"text-align: right;\">\n",
       "      <th></th>\n",
       "      <th>Volume</th>\n",
       "    </tr>\n",
       "  </thead>\n",
       "  <tbody>\n",
       "    <tr>\n",
       "      <th>0</th>\n",
       "      <td>2657900</td>\n",
       "    </tr>\n",
       "    <tr>\n",
       "      <th>1</th>\n",
       "      <td>3298100</td>\n",
       "    </tr>\n",
       "    <tr>\n",
       "      <th>2</th>\n",
       "      <td>3479500</td>\n",
       "    </tr>\n",
       "    <tr>\n",
       "      <th>3</th>\n",
       "      <td>3676100</td>\n",
       "    </tr>\n",
       "    <tr>\n",
       "      <th>4</th>\n",
       "      <td>3879700</td>\n",
       "    </tr>\n",
       "    <tr>\n",
       "      <th>...</th>\n",
       "      <td>...</td>\n",
       "    </tr>\n",
       "    <tr>\n",
       "      <th>243</th>\n",
       "      <td>84457100</td>\n",
       "    </tr>\n",
       "    <tr>\n",
       "      <th>244</th>\n",
       "      <td>87558000</td>\n",
       "    </tr>\n",
       "    <tr>\n",
       "      <th>245</th>\n",
       "      <td>97798600</td>\n",
       "    </tr>\n",
       "    <tr>\n",
       "      <th>246</th>\n",
       "      <td>98944600</td>\n",
       "    </tr>\n",
       "    <tr>\n",
       "      <th>247</th>\n",
       "      <td>113316400</td>\n",
       "    </tr>\n",
       "  </tbody>\n",
       "</table>\n",
       "<p>248 rows × 1 columns</p>\n",
       "</div>"
      ],
      "text/plain": [
       "        Volume\n",
       "0      2657900\n",
       "1      3298100\n",
       "2      3479500\n",
       "3      3676100\n",
       "4      3879700\n",
       "..         ...\n",
       "243   84457100\n",
       "244   87558000\n",
       "245   97798600\n",
       "246   98944600\n",
       "247  113316400\n",
       "\n",
       "[248 rows x 1 columns]"
      ]
     },
     "execution_count": 54,
     "metadata": {},
     "output_type": "execute_result"
    }
   ],
   "source": [
    "my_val.mode()"
   ]
  },
  {
   "cell_type": "code",
   "execution_count": 55,
   "id": "2b23c629-0a4e-4e7b-923e-e5ae2e09de96",
   "metadata": {},
   "outputs": [
    {
     "data": {
      "text/html": [
       "<div>\n",
       "<style scoped>\n",
       "    .dataframe tbody tr th:only-of-type {\n",
       "        vertical-align: middle;\n",
       "    }\n",
       "\n",
       "    .dataframe tbody tr th {\n",
       "        vertical-align: top;\n",
       "    }\n",
       "\n",
       "    .dataframe thead th {\n",
       "        text-align: right;\n",
       "    }\n",
       "</style>\n",
       "<table border=\"1\" class=\"dataframe\">\n",
       "  <thead>\n",
       "    <tr style=\"text-align: right;\">\n",
       "      <th></th>\n",
       "      <th>Volume</th>\n",
       "    </tr>\n",
       "  </thead>\n",
       "  <tbody>\n",
       "    <tr>\n",
       "      <th>0</th>\n",
       "      <td>83322600</td>\n",
       "    </tr>\n",
       "    <tr>\n",
       "      <th>1</th>\n",
       "      <td>64120100</td>\n",
       "    </tr>\n",
       "    <tr>\n",
       "      <th>2</th>\n",
       "      <td>56007100</td>\n",
       "    </tr>\n",
       "    <tr>\n",
       "      <th>3</th>\n",
       "      <td>57450700</td>\n",
       "    </tr>\n",
       "    <tr>\n",
       "      <th>4</th>\n",
       "      <td>62199000</td>\n",
       "    </tr>\n",
       "    <tr>\n",
       "      <th>...</th>\n",
       "      <td>...</td>\n",
       "    </tr>\n",
       "    <tr>\n",
       "      <th>243</th>\n",
       "      <td>20926300</td>\n",
       "    </tr>\n",
       "    <tr>\n",
       "      <th>244</th>\n",
       "      <td>20343100</td>\n",
       "    </tr>\n",
       "    <tr>\n",
       "      <th>245</th>\n",
       "      <td>17116300</td>\n",
       "    </tr>\n",
       "    <tr>\n",
       "      <th>246</th>\n",
       "      <td>19780600</td>\n",
       "    </tr>\n",
       "    <tr>\n",
       "      <th>247</th>\n",
       "      <td>20705300</td>\n",
       "    </tr>\n",
       "  </tbody>\n",
       "</table>\n",
       "<p>245 rows × 1 columns</p>\n",
       "</div>"
      ],
      "text/plain": [
       "       Volume\n",
       "0    83322600\n",
       "1    64120100\n",
       "2    56007100\n",
       "3    57450700\n",
       "4    62199000\n",
       "..        ...\n",
       "243  20926300\n",
       "244  20343100\n",
       "245  17116300\n",
       "246  19780600\n",
       "247  20705300\n",
       "\n",
       "[245 rows x 1 columns]"
      ]
     },
     "execution_count": 55,
     "metadata": {},
     "output_type": "execute_result"
    }
   ],
   "source": [
    "my_val=my_val[(my_val[\"Volume\"]>=q0) & (my_val[\"Volume\"]<=q100)]\n",
    "my_val"
   ]
  },
  {
   "cell_type": "code",
   "execution_count": 56,
   "id": "95a2b2bc-dcae-4151-b149-d1eaed01fd7e",
   "metadata": {},
   "outputs": [
    {
     "data": {
      "image/png": "[encoded data removed]",
      "text/plain": [
       "<Figure size 640x480 with 1 Axes>"
      ]
     },
     "metadata": {},
     "output_type": "display_data"
    }
   ],
   "source": [
    "sns.boxplot(my_val[\"Volume\"])\n",
    "plt.show()"
   ]
  },
  {
   "cell_type": "code",
   "execution_count": 57,
   "id": "722290de-0fdf-477c-8a5f-821882936f2f",
   "metadata": {},
   "outputs": [
    {
     "data": {
      "text/html": [
       "<div>\n",
       "<style scoped>\n",
       "    .dataframe tbody tr th:only-of-type {\n",
       "        vertical-align: middle;\n",
       "    }\n",
       "\n",
       "    .dataframe tbody tr th {\n",
       "        vertical-align: top;\n",
       "    }\n",
       "\n",
       "    .dataframe thead th {\n",
       "        text-align: right;\n",
       "    }\n",
       "</style>\n",
       "<table border=\"1\" class=\"dataframe\">\n",
       "  <thead>\n",
       "    <tr style=\"text-align: right;\">\n",
       "      <th></th>\n",
       "      <th>Ticker</th>\n",
       "      <th>Date</th>\n",
       "      <th>Open</th>\n",
       "      <th>High</th>\n",
       "      <th>Low</th>\n",
       "      <th>Close</th>\n",
       "      <th>Adj Close</th>\n",
       "      <th>Volume</th>\n",
       "    </tr>\n",
       "  </thead>\n",
       "  <tbody>\n",
       "    <tr>\n",
       "      <th>0</th>\n",
       "      <td>AAPL</td>\n",
       "      <td>2023-02-07</td>\n",
       "      <td>150.639999</td>\n",
       "      <td>155.229996</td>\n",
       "      <td>150.639999</td>\n",
       "      <td>154.649994</td>\n",
       "      <td>154.414230</td>\n",
       "      <td>83322600</td>\n",
       "    </tr>\n",
       "    <tr>\n",
       "      <th>1</th>\n",
       "      <td>AAPL</td>\n",
       "      <td>2023-02-08</td>\n",
       "      <td>153.880005</td>\n",
       "      <td>154.580002</td>\n",
       "      <td>151.169998</td>\n",
       "      <td>151.919998</td>\n",
       "      <td>151.688400</td>\n",
       "      <td>64120100</td>\n",
       "    </tr>\n",
       "    <tr>\n",
       "      <th>2</th>\n",
       "      <td>AAPL</td>\n",
       "      <td>2023-02-09</td>\n",
       "      <td>153.779999</td>\n",
       "      <td>154.330002</td>\n",
       "      <td>150.419998</td>\n",
       "      <td>150.869995</td>\n",
       "      <td>150.639999</td>\n",
       "      <td>56007100</td>\n",
       "    </tr>\n",
       "    <tr>\n",
       "      <th>3</th>\n",
       "      <td>AAPL</td>\n",
       "      <td>2023-02-10</td>\n",
       "      <td>149.460007</td>\n",
       "      <td>151.339996</td>\n",
       "      <td>149.220001</td>\n",
       "      <td>151.009995</td>\n",
       "      <td>151.009995</td>\n",
       "      <td>57450700</td>\n",
       "    </tr>\n",
       "    <tr>\n",
       "      <th>4</th>\n",
       "      <td>AAPL</td>\n",
       "      <td>2023-02-13</td>\n",
       "      <td>150.949997</td>\n",
       "      <td>154.259995</td>\n",
       "      <td>150.919998</td>\n",
       "      <td>153.850006</td>\n",
       "      <td>153.850006</td>\n",
       "      <td>62199000</td>\n",
       "    </tr>\n",
       "  </tbody>\n",
       "</table>\n",
       "</div>"
      ],
      "text/plain": [
       "  Ticker        Date        Open        High         Low       Close  \\\n",
       "0   AAPL  2023-02-07  150.639999  155.229996  150.639999  154.649994   \n",
       "1   AAPL  2023-02-08  153.880005  154.580002  151.169998  151.919998   \n",
       "2   AAPL  2023-02-09  153.779999  154.330002  150.419998  150.869995   \n",
       "3   AAPL  2023-02-10  149.460007  151.339996  149.220001  151.009995   \n",
       "4   AAPL  2023-02-13  150.949997  154.259995  150.919998  153.850006   \n",
       "\n",
       "    Adj Close    Volume  \n",
       "0  154.414230  83322600  \n",
       "1  151.688400  64120100  \n",
       "2  150.639999  56007100  \n",
       "3  151.009995  57450700  \n",
       "4  153.850006  62199000  "
      ]
     },
     "execution_count": 57,
     "metadata": {},
     "output_type": "execute_result"
    }
   ],
   "source": [
    "df.head(5)"
   ]
  },
  {
   "cell_type": "code",
   "execution_count": null,
   "id": "50775b1f-3396-48ec-ae39-d888e385f6fb",
   "metadata": {},
   "outputs": [],
   "source": []
  }
 ],
 "metadata": {
  "kernelspec": {
   "display_name": "Python 3 (ipykernel)",
   "language": "python",
   "name": "python3"
  },
  "language_info": {
   "codemirror_mode": {
    "name": "ipython",
    "version": 3
   },
   "file_extension": ".py",
   "mimetype": "text/x-python",
   "name": "python",
   "nbconvert_exporter": "python",
   "pygments_lexer": "ipython3",
   "version": "3.12.4"
  }
 },
 "nbformat": 4,
 "nbformat_minor": 5
}
